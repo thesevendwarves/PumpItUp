{
  "nbformat": 4,
  "nbformat_minor": 0,
  "metadata": {
    "colab": {
      "name": "Instructions.ipynb",
      "version": "0.3.2",
      "provenance": [],
      "collapsed_sections": [],
      "include_colab_link": true
    },
    "kernelspec": {
      "display_name": "Python 3",
      "language": "python",
      "name": "python3"
    }
  },
  "cells": [
    {
      "cell_type": "markdown",
      "metadata": {
        "id": "view-in-github",
        "colab_type": "text"
      },
      "source": [
        "<a href=\"https://colab.research.google.com/github/thesevendwarves/PumpItUp/blob/master/Instructions.ipynb\" target=\"_parent\"><img src=\"https://colab.research.google.com/assets/colab-badge.svg\" alt=\"Open In Colab\"/></a>"
      ]
    },
    {
      "metadata": {
        "id": "pcsAmZmjFyNt",
        "colab_type": "text"
      },
      "cell_type": "markdown",
      "source": [
        "## Instructions for using Google Colab with GitHub\n",
        "\n",
        "First, ensure that you are part of the `thesevendwarves` GitHub organization and that you have access to the repo: `PumpItUp`. Link [here](https://github.com/thesevendwarves)\n",
        "\n",
        "![](https://github.com/thesevendwarves/PumpItUp/blob/master/diag2.png?raw=1)\n",
        "\n",
        "After doing that, follow the instructions below:\n",
        "\n",
        "1. Go to [https://colab.research.google.com/github/thesevendwarves/](https://colab.research.google.com/github/thesevendwarves/)\n",
        "\n",
        "2. \n",
        "\n"
      ]
    },
    {
      "metadata": {
        "id": "QHjpVDrhFxka",
        "colab_type": "code",
        "colab": {}
      },
      "cell_type": "code",
      "source": [
        ""
      ],
      "execution_count": 0,
      "outputs": []
    }
  ]
}